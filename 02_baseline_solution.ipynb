{
 "cells": [
  {
   "cell_type": "markdown",
   "id": "bright-muscle",
   "metadata": {},
   "source": [
    "# Baseline solution\n",
    "\n",
    "In this notebook, a naive solution for the prediction problem is implemented and evaluated. This naive solution, which is used as a baseline, always predicts the `NumBikes+1` label being equal to `NumBikes`."
   ]
  },
  {
   "cell_type": "code",
   "execution_count": 1,
   "id": "wrong-story",
   "metadata": {},
   "outputs": [],
   "source": [
    "from pyspark.ml.evaluation import RegressionEvaluator\n",
    "import pyspark.sql.functions as F"
   ]
  },
  {
   "cell_type": "markdown",
   "id": "northern-psychology",
   "metadata": {},
   "source": [
    "## Input data parsing"
   ]
  },
  {
   "cell_type": "code",
   "execution_count": 2,
   "id": "underlying-arlington",
   "metadata": {},
   "outputs": [],
   "source": [
    "testData = spark.read.load(\"/user/garza/LabReply/ProjectData/testData.csv\", format=\"csv\", header=True, inferSchema=True)"
   ]
  },
  {
   "cell_type": "code",
   "execution_count": 3,
   "id": "intensive-greene",
   "metadata": {},
   "outputs": [
    {
     "name": "stdout",
     "output_type": "stream",
     "text": [
      "root\n",
      " |-- StationId: integer (nullable = true)\n",
      " |-- Timestamp: timestamp (nullable = true)\n",
      " |-- NumBikes-4: integer (nullable = true)\n",
      " |-- NumBikes-3: integer (nullable = true)\n",
      " |-- NumBikes-2: integer (nullable = true)\n",
      " |-- NumBikes-1: integer (nullable = true)\n",
      " |-- NumBikes: integer (nullable = true)\n",
      " |-- NumBikes+1: integer (nullable = true)\n",
      "\n",
      "+---------+-------------------+----------+----------+----------+----------+--------+----------+\n",
      "|StationId|          Timestamp|NumBikes-4|NumBikes-3|NumBikes-2|NumBikes-1|NumBikes|NumBikes+1|\n",
      "+---------+-------------------+----------+----------+----------+----------+--------+----------+\n",
      "|      122|2008-09-01 05:00:00|         0|         0|         0|         0|       0|         0|\n",
      "|       16|2008-09-01 05:00:00|         0|         0|         0|         0|       0|         0|\n",
      "|      163|2008-09-01 05:00:00|         0|         0|         0|         0|       0|         0|\n",
      "|      170|2008-09-01 05:00:00|         0|         0|         0|         0|       0|         0|\n",
      "|       17|2008-09-01 05:00:00|         0|         0|         2|         2|       2|         2|\n",
      "|      172|2008-09-01 05:00:00|         0|         0|         0|         0|       1|         1|\n",
      "|      173|2008-09-01 05:00:00|         0|         0|         0|         0|       0|         0|\n",
      "|      202|2008-09-01 05:00:00|         0|         1|         1|         1|       1|         1|\n",
      "|      203|2008-09-01 05:00:00|         0|         0|         0|         0|       0|         0|\n",
      "|      211|2008-09-01 05:00:00|         0|         0|         0|         0|       0|         0|\n",
      "|      212|2008-09-01 05:00:00|         0|         0|         0|         0|       0|         0|\n",
      "|      222|2008-09-01 05:00:00|         0|         0|         0|         0|       0|         0|\n",
      "|       23|2008-09-01 05:00:00|         0|         0|         0|         0|       0|         0|\n",
      "|      240|2008-09-01 05:00:00|         0|         0|         0|         0|       0|         0|\n",
      "|      241|2008-09-01 05:00:00|         0|         0|         0|         0|       0|         0|\n",
      "|      267|2008-09-01 05:00:00|         0|         0|         0|         1|       1|         1|\n",
      "|      281|2008-09-01 05:00:00|         0|         0|         0|         0|       0|         0|\n",
      "|       50|2008-09-01 05:00:00|         0|         0|         0|         0|       0|         0|\n",
      "|       53|2008-09-01 05:00:00|         0|         0|         1|         1|       1|         1|\n",
      "|       73|2008-09-01 05:00:00|         0|         0|         0|         0|       0|         0|\n",
      "+---------+-------------------+----------+----------+----------+----------+--------+----------+\n",
      "only showing top 20 rows\n",
      "\n"
     ]
    }
   ],
   "source": [
    "testData.printSchema()\n",
    "testData.show()"
   ]
  },
  {
   "cell_type": "markdown",
   "id": "consistent-contrary",
   "metadata": {},
   "source": [
    "## Prediction\n",
    "\n",
    "To implement our naive solution, we exploit standard DataFrame API functionalities to create the `prediction` and `label` columns from the existing `NumBikes` and `NumBikes+1`. A casting to the `float` type is needed since MLlib expects this data type for the prediction columns."
   ]
  },
  {
   "cell_type": "code",
   "execution_count": 4,
   "id": "quantitative-disease",
   "metadata": {},
   "outputs": [],
   "source": [
    "predictedTestData = testData \\\n",
    "    .withColumn(\"prediction\", F.col(\"NumBikes\").astype(\"float\")) \\\n",
    "    .withColumn(\"label\", F.col(\"NumBikes+1\").astype(\"float\"))"
   ]
  },
  {
   "cell_type": "markdown",
   "id": "aggressive-congress",
   "metadata": {},
   "source": [
    "## Evaluation\n",
    "\n",
    "We evaluate this naive labeling using standard regression metrics such as the Root Mean Squared Error (RMSE) or the R2 coefficient.\n",
    "\n",
    "We observe that, even for this very simple solution, the obtained figures are quite promising, especially with respect to the large data size (more than 800K test records). Indeed, as we noted in the data exploration part, for the large majority of records the difference between the `NumBikes+1` and `NumBikes` observations is zero. This is also motivated by the high correlation between these two features, which are essentially linearly dependent one on the other in the observations that we have (the computed Pearson coefficient is 0.98)."
   ]
  },
  {
   "cell_type": "code",
   "execution_count": 5,
   "id": "covered-bangladesh",
   "metadata": {},
   "outputs": [
    {
     "name": "stdout",
     "output_type": "stream",
     "text": [
      "RMSE: 1.4672708580571527\n"
     ]
    }
   ],
   "source": [
    "rmseEvaluator = RegressionEvaluator(metricName=\"rmse\")\n",
    "print(\"RMSE:\", rmseEvaluator.evaluate(predictedTestData))"
   ]
  },
  {
   "cell_type": "code",
   "execution_count": 6,
   "id": "floppy-oxide",
   "metadata": {},
   "outputs": [
    {
     "name": "stdout",
     "output_type": "stream",
     "text": [
      "R2: 0.9652016063526873\n"
     ]
    }
   ],
   "source": [
    "r2Evaluator = RegressionEvaluator(metricName=\"r2\")\n",
    "print(\"R2:\", r2Evaluator.evaluate(predictedTestData))"
   ]
  }
 ],
 "metadata": {
  "kernelspec": {
   "display_name": "PySpark (Local)",
   "language": "python",
   "name": "pyspark_local"
  },
  "language_info": {
   "codemirror_mode": {
    "name": "ipython",
    "version": 3
   },
   "file_extension": ".py",
   "mimetype": "text/x-python",
   "name": "python",
   "nbconvert_exporter": "python",
   "pygments_lexer": "ipython3",
   "version": "3.7.9"
  }
 },
 "nbformat": 4,
 "nbformat_minor": 5
}
