{
 "cells": [
  {
   "cell_type": "markdown",
   "id": "crucial-organization",
   "metadata": {},
   "source": [
    "# Linear regression model on Spark\n",
    "\n",
    "In this notebook, we use a standard linear regression model (as implemented in Spark) to classify our pre-processed dataset. Specifically, we test the performance of our model with four different sets of features; then, we run a cross-validation on the one yielding the best results, to further optimize the obtained results."
   ]
  },
  {
   "cell_type": "code",
   "execution_count": 1,
   "id": "isolated-olympus",
   "metadata": {},
   "outputs": [
    {
     "name": "stderr",
     "output_type": "stream",
     "text": [
      "\n",
      "Bad key \"text.kerning_factor\" on line 4 in\n",
      "/opt/anaconda3/envs/bigdatalab_cpu_202101/lib/python3.7/site-packages/matplotlib/mpl-data/stylelib/_classic_test_patch.mplstyle.\n",
      "You probably need to get an updated matplotlibrc file from\n",
      "https://github.com/matplotlib/matplotlib/blob/v3.1.2/matplotlibrc.template\n",
      "or from the matplotlib source distribution\n"
     ]
    }
   ],
   "source": [
    "from pyspark.sql import SparkSession\n",
    "from pyspark.ml import Pipeline, Transformer\n",
    "from pyspark.ml.feature import VectorAssembler, OneHotEncoder\n",
    "from pyspark.ml.regression import LinearRegression\n",
    "from pyspark.ml.evaluation import RegressionEvaluator\n",
    "from pyspark.ml.tuning import CrossValidator, ParamGridBuilder\n",
    "\n",
    "import pyspark.sql.functions as F\n",
    "import pandas as pd\n",
    "import matplotlib.pyplot as plt\n",
    "import seaborn as sns\n",
    "sns.set()"
   ]
  },
  {
   "cell_type": "markdown",
   "id": "historic-renaissance",
   "metadata": {},
   "source": [
    "## Input data parsing"
   ]
  },
  {
   "cell_type": "code",
   "execution_count": 2,
   "id": "labeled-astrology",
   "metadata": {},
   "outputs": [],
   "source": [
    "inputPath = \"/user/s291516/preprocessed/\"\n",
    "trainData = spark.read.format(\"csv\").option(\"header\", True).option(\"inferSchema\", True).load(inputPath + \"trainData/\")\n",
    "testData = spark.read.format(\"csv\").option(\"header\", True).option(\"inferSchema\", True).load(inputPath + \"testData/\")"
   ]
  },
  {
   "cell_type": "markdown",
   "id": "suffering-projector",
   "metadata": {},
   "source": [
    "## Evaluators definition"
   ]
  },
  {
   "cell_type": "code",
   "execution_count": 3,
   "id": "informative-smith",
   "metadata": {},
   "outputs": [],
   "source": [
    "rmseEvaluator = RegressionEvaluator(predictionCol=\"prediction\", labelCol=\"NumBikes+1\", metricName=\"rmse\")\n",
    "r2Evaluator = RegressionEvaluator(predictionCol=\"prediction\", labelCol=\"NumBikes+1\", metricName=\"r2\")\n",
    "resultsDF = pd.DataFrame(columns=[\"Features\", \"Metric\", \"Value\"])"
   ]
  },
  {
   "cell_type": "markdown",
   "id": "prospective-frank",
   "metadata": {},
   "source": [
    "## Label mapper definition\n",
    "\n",
    "For prediction purposes, we are going to use the \"diff\" version of the features as produced in the data preprocessing notebook. The `LabelMapper` transformer will be used to translate back the \"diff\" prediction to a full prediction, obtained by summing the obtained prediction to the value of the `NumBikes` attribute."
   ]
  },
  {
   "cell_type": "code",
   "execution_count": 4,
   "id": "narrative-newport",
   "metadata": {},
   "outputs": [],
   "source": [
    "class LabelMapper(Transformer):\n",
    "    def _transform(self, inputDF):\n",
    "        return inputDF.withColumn(\"prediction\", F.col(\"prediction\") + F.col(\"NumBikes\"))"
   ]
  },
  {
   "cell_type": "markdown",
   "id": "blank-atmosphere",
   "metadata": {},
   "source": [
    "## Solution #1: only numerical features\n",
    "\n",
    "In our first solution, we use only the numerical features exposed by our dataset (`NumBikesDiff-3`, `NumBikesDiff-2`, `NumBikesDiff-1`, `NumBikesDiff` and `NumBikes`) to predict the value of `NumBikesDiff+1`."
   ]
  },
  {
   "cell_type": "code",
   "execution_count": 5,
   "id": "sustainable-authorization",
   "metadata": {},
   "outputs": [
    {
     "name": "stdout",
     "output_type": "stream",
     "text": [
      "Training RMSE: 1.2696778011746317\n"
     ]
    }
   ],
   "source": [
    "pipeline = Pipeline(stages=[\n",
    "    VectorAssembler(inputCols=[\"NumBikesDiff-3\", \"NumBikesDiff-2\", \"NumBikesDiff-1\", \"NumBikesDiff\", \"NumBikes\"], outputCol=\"features\"),\n",
    "    LinearRegression(labelCol=\"NumBikesDiff+1\"),\n",
    "    LabelMapper()\n",
    "])\n",
    "\n",
    "model = pipeline.fit(trainData)\n",
    "print(\"Training RMSE:\", model.stages[1].summary.rootMeanSquaredError)"
   ]
  },
  {
   "cell_type": "markdown",
   "id": "acute-density",
   "metadata": {},
   "source": [
    "This model already presents some improvements over the baseline, as reflected in the following evaluation metrics."
   ]
  },
  {
   "cell_type": "code",
   "execution_count": 6,
   "id": "applied-plaintiff",
   "metadata": {},
   "outputs": [
    {
     "name": "stdout",
     "output_type": "stream",
     "text": [
      "RMSE: 1.4422666210457207\n",
      "R2: 0.9663775220166556\n"
     ]
    }
   ],
   "source": [
    "predictedTestData = model.transform(testData)\n",
    "\n",
    "rmse = rmseEvaluator.evaluate(predictedTestData)\n",
    "print(\"RMSE:\", rmse)\n",
    "\n",
    "r2 = r2Evaluator.evaluate(predictedTestData)\n",
    "print(\"R2:\", r2)\n",
    "\n",
    "resultsDF = resultsDF.append([\n",
    "    {\"Features\": \"Only numerical\", \"Metric\": \"RMSE\", \"Value\": rmse},\n",
    "    {\"Features\": \"Only numerical\", \"Metric\": \"R2\", \"Value\": r2}\n",
    "], ignore_index=True)"
   ]
  },
  {
   "cell_type": "markdown",
   "id": "experimental-nebraska",
   "metadata": {},
   "source": [
    "## Solution #2: one-hot encoded categorical features\n",
    "\n",
    "In the second solution, we enlarge the feature space by adding the one-hot encoded version of our categorical features (the hour, the day of the week, and the zone of the station) into the model."
   ]
  },
  {
   "cell_type": "code",
   "execution_count": 7,
   "id": "neither-statement",
   "metadata": {},
   "outputs": [
    {
     "name": "stdout",
     "output_type": "stream",
     "text": [
      "Training RMSE: 1.2660696244537368\n"
     ]
    }
   ],
   "source": [
    "pipeline = Pipeline(stages=[\n",
    "    OneHotEncoder(inputCol=\"Hour\", outputCol=\"HourOH\"),\n",
    "    OneHotEncoder(inputCol=\"DayOfWeek\", outputCol=\"DayOfWeekOH\"),\n",
    "    OneHotEncoder(inputCol=\"Zone\", outputCol=\"ZoneOH\"),\n",
    "    VectorAssembler(inputCols=[\n",
    "        \"NumBikesDiff-3\", \"NumBikesDiff-2\", \"NumBikesDiff-1\", \"NumBikesDiff\", \"NumBikes\",\n",
    "        \"HourOH\", \"DayOfWeekOH\", \"ZoneOH\"\n",
    "    ], outputCol=\"features\"),\n",
    "    LinearRegression(labelCol=\"NumBikesDiff+1\"),\n",
    "    LabelMapper()\n",
    "])\n",
    "\n",
    "model = pipeline.fit(trainData)\n",
    "print(\"Training RMSE:\", model.stages[4].summary.rootMeanSquaredError)"
   ]
  },
  {
   "cell_type": "markdown",
   "id": "local-trial",
   "metadata": {},
   "source": [
    "The resulting model performs slightly better than the previous one, as shown by the metrics below."
   ]
  },
  {
   "cell_type": "code",
   "execution_count": 8,
   "id": "subjective-blackjack",
   "metadata": {},
   "outputs": [
    {
     "name": "stdout",
     "output_type": "stream",
     "text": [
      "RMSE: 1.4386726782819135\n",
      "R2: 0.9665448790146446\n"
     ]
    }
   ],
   "source": [
    "predictedTestData = model.transform(testData)\n",
    "\n",
    "rmse = rmseEvaluator.evaluate(predictedTestData)\n",
    "print(\"RMSE:\", rmse)\n",
    "\n",
    "r2 = r2Evaluator.evaluate(predictedTestData)\n",
    "print(\"R2:\", r2)\n",
    "\n",
    "resultsDF = resultsDF.append([\n",
    "    {\"Features\": \"Categorical OH\", \"Metric\": \"RMSE\", \"Value\": rmse},\n",
    "    {\"Features\": \"Categorical OH\", \"Metric\": \"R2\", \"Value\": r2}\n",
    "], ignore_index=True)"
   ]
  },
  {
   "cell_type": "markdown",
   "id": "available-focus",
   "metadata": {},
   "source": [
    "## Solution #3: disjoint, effect-encoded categorical features\n",
    "\n",
    "In the third solution, we use the effect-encoded version of our categorical features, considering only the \"disjoint\" ones (i.e., we consider separately the effect of the hour, day of the week, and zone of the station)."
   ]
  },
  {
   "cell_type": "code",
   "execution_count": 9,
   "id": "enclosed-charm",
   "metadata": {},
   "outputs": [
    {
     "name": "stdout",
     "output_type": "stream",
     "text": [
      "Training RMSE: 1.2674470380187084\n"
     ]
    }
   ],
   "source": [
    "pipeline = Pipeline(stages=[\n",
    "    VectorAssembler(inputCols=[\n",
    "        \"NumBikesDiff-3\", \"NumBikesDiff-2\", \"NumBikesDiff-1\", \"NumBikesDiff\", \"NumBikes\",\n",
    "        \"AvgByHour\", \"AvgByWeekday\", \"AvgByZone\"\n",
    "    ], outputCol=\"features\"),\n",
    "    LinearRegression(labelCol=\"NumBikesDiff+1\"),\n",
    "    LabelMapper()\n",
    "])\n",
    "\n",
    "model = pipeline.fit(trainData)\n",
    "print(\"Training RMSE:\", model.stages[1].summary.rootMeanSquaredError)"
   ]
  },
  {
   "cell_type": "markdown",
   "id": "departmental-matter",
   "metadata": {},
   "source": [
    "The resulting model performs somewhere in between the first and second solution."
   ]
  },
  {
   "cell_type": "code",
   "execution_count": 10,
   "id": "sweet-permission",
   "metadata": {},
   "outputs": [
    {
     "name": "stdout",
     "output_type": "stream",
     "text": [
      "RMSE: 1.440439513318856\n",
      "R2: 0.9664626560362883\n"
     ]
    }
   ],
   "source": [
    "predictedTestData = model.transform(testData)\n",
    "\n",
    "rmse = rmseEvaluator.evaluate(predictedTestData)\n",
    "print(\"RMSE:\", rmse)\n",
    "\n",
    "r2 = r2Evaluator.evaluate(predictedTestData)\n",
    "print(\"R2:\", r2)\n",
    "\n",
    "resultsDF = resultsDF.append([\n",
    "    {\"Features\": \"Disjoint effect\", \"Metric\": \"RMSE\", \"Value\": rmse},\n",
    "    {\"Features\": \"Disjoint effect\", \"Metric\": \"R2\", \"Value\": r2}\n",
    "], ignore_index=True)"
   ]
  },
  {
   "cell_type": "markdown",
   "id": "registered-driver",
   "metadata": {},
   "source": [
    "## Solution #4: combined, effect-encoded categorical features\n",
    "\n",
    "Here, we consider a solution in which we use all the available numerical features, plus the joint average computed considering all the categorical values at once."
   ]
  },
  {
   "cell_type": "code",
   "execution_count": 11,
   "id": "settled-ownership",
   "metadata": {},
   "outputs": [
    {
     "name": "stdout",
     "output_type": "stream",
     "text": [
      "Training RMSE: 1.2570201799143175\n"
     ]
    }
   ],
   "source": [
    "pipeline = Pipeline(stages=[\n",
    "    VectorAssembler(inputCols=[\"NumBikesDiff-3\", \"NumBikesDiff-2\", \"NumBikesDiff-1\", \"NumBikesDiff\", \"NumBikes\", \"AvgCombined\"], outputCol=\"features\"),\n",
    "    LinearRegression(labelCol=\"NumBikesDiff+1\"),\n",
    "    LabelMapper()\n",
    "])\n",
    "\n",
    "model = pipeline.fit(trainData)\n",
    "print(\"Training RMSE:\", model.stages[1].summary.rootMeanSquaredError)"
   ]
  },
  {
   "cell_type": "markdown",
   "id": "aggregate-clarity",
   "metadata": {},
   "source": [
    "This solution improves quite a bit over the previous models, presenting the lowest observed RMSE and highest R2 coefficient."
   ]
  },
  {
   "cell_type": "code",
   "execution_count": 12,
   "id": "photographic-boards",
   "metadata": {},
   "outputs": [
    {
     "name": "stdout",
     "output_type": "stream",
     "text": [
      "RMSE: 1.4337551592291111\n",
      "R2: 0.9667731936707784\n"
     ]
    }
   ],
   "source": [
    "predictedTestData = model.transform(testData)\n",
    "\n",
    "rmse = rmseEvaluator.evaluate(predictedTestData)\n",
    "print(\"RMSE:\", rmse)\n",
    "\n",
    "r2 = r2Evaluator.evaluate(predictedTestData)\n",
    "print(\"R2:\", r2)\n",
    "\n",
    "resultsDF = resultsDF.append([\n",
    "    {\"Features\": \"Combined effect\", \"Metric\": \"RMSE\", \"Value\": rmse},\n",
    "    {\"Features\": \"Combined effect\", \"Metric\": \"R2\", \"Value\": r2}\n",
    "], ignore_index=True)"
   ]
  },
  {
   "cell_type": "markdown",
   "id": "executed-feelings",
   "metadata": {},
   "source": [
    "## Solution #5: putting all together\n",
    "\n",
    "Finally, we test a solution in which all the aforementioned features are fed to the regression algorithm."
   ]
  },
  {
   "cell_type": "code",
   "execution_count": 13,
   "id": "premium-inspiration",
   "metadata": {},
   "outputs": [
    {
     "name": "stdout",
     "output_type": "stream",
     "text": [
      "Training RMSE: 1.255196096644463\n"
     ]
    }
   ],
   "source": [
    "pipeline = Pipeline(stages=[\n",
    "    OneHotEncoder(inputCol=\"Hour\", outputCol=\"HourOH\"),\n",
    "    OneHotEncoder(inputCol=\"DayOfWeek\", outputCol=\"DayOfWeekOH\"),\n",
    "    OneHotEncoder(inputCol=\"Zone\", outputCol=\"ZoneOH\"),\n",
    "    VectorAssembler(inputCols=[\n",
    "        \"NumBikesDiff-3\", \"NumBikesDiff-2\", \"NumBikesDiff-1\", \"NumBikesDiff\", \"NumBikes\",\n",
    "        \"HourOH\", \"DayOfWeekOH\", \"ZoneOH\",\n",
    "        \"AvgByHour\", \"AvgByWeekday\", \"AvgByZone\", \"AvgCombined\"\n",
    "    ], outputCol=\"features\"),\n",
    "    LinearRegression(labelCol=\"NumBikesDiff+1\"),\n",
    "    LabelMapper()\n",
    "])\n",
    "\n",
    "model = pipeline.fit(trainData)\n",
    "print(\"Training RMSE:\", model.stages[4].summary.rootMeanSquaredError)"
   ]
  },
  {
   "cell_type": "markdown",
   "id": "concrete-spirituality",
   "metadata": {},
   "source": [
    "With respect to the previous case, we observe a slight improvement of the reference metrics, although this might not be enough to justify the usage of a largely more complex model (we remind that here, due to the usage of one-hot encoded categorical variables, we are regressing on a significantly larger set of features)."
   ]
  },
  {
   "cell_type": "code",
   "execution_count": 14,
   "id": "loving-microwave",
   "metadata": {},
   "outputs": [
    {
     "name": "stdout",
     "output_type": "stream",
     "text": [
      "RMSE: 1.4316515430100976\n",
      "R2: 0.9668706233775958\n"
     ]
    }
   ],
   "source": [
    "predictedTestData = model.transform(testData)\n",
    "\n",
    "rmse = rmseEvaluator.evaluate(predictedTestData)\n",
    "print(\"RMSE:\", rmse)\n",
    "\n",
    "r2 = r2Evaluator.evaluate(predictedTestData)\n",
    "print(\"R2:\", r2)\n",
    "\n",
    "resultsDF = resultsDF.append([\n",
    "    {\"Features\": \"All\", \"Metric\": \"RMSE\", \"Value\": rmse},\n",
    "    {\"Features\": \"All\", \"Metric\": \"R2\", \"Value\": r2}\n",
    "], ignore_index=True)"
   ]
  },
  {
   "cell_type": "markdown",
   "id": "satellite-simple",
   "metadata": {},
   "source": [
    "## Hyperparameter optimization\n",
    "\n",
    "For solution #4, we run an optimization procedure to determine the best value for the parameters of the regression model, so to increase even further the performance of our model. To do so, we used the parameter grid defined in the cell below, in which we tested different values of all the parameters of Spark's linear regression model; then, we fitted a `Pipeline` object using a `CrossValidator` stage (the number of CV folds was set to its default value of 3)."
   ]
  },
  {
   "cell_type": "code",
   "execution_count": 15,
   "id": "basic-arnold",
   "metadata": {},
   "outputs": [],
   "source": [
    "lr = LinearRegression()\n",
    "grid = ParamGridBuilder() \\\n",
    "    .baseOn({lr.labelCol: \"NumBikesDiff+1\"}) \\\n",
    "    .addGrid(lr.maxIter, [100, 500, 1000]) \\\n",
    "    .addGrid(lr.regParam, [0.0, 0.1, 0.01, 0.001]) \\\n",
    "    .addGrid(lr.elasticNetParam, [0.0, 0.25, 0.5, 0.75, 1]) \\\n",
    "    .build()"
   ]
  },
  {
   "cell_type": "code",
   "execution_count": 16,
   "id": "engaging-freight",
   "metadata": {},
   "outputs": [
    {
     "name": "stdout",
     "output_type": "stream",
     "text": [
      "Training RMSE: 1.2703915155281909\n"
     ]
    }
   ],
   "source": [
    "pipeline = Pipeline(stages=[\n",
    "    VectorAssembler(inputCols=[\"NumBikesDiff-3\", \"NumBikesDiff-2\", \"NumBikesDiff-1\", \"NumBikesDiff\", \"NumBikes\", \"AvgCombined\"], outputCol=\"features\"),\n",
    "    CrossValidator(estimator=lr, estimatorParamMaps=grid, evaluator=rmseEvaluator)\n",
    "])\n",
    "\n",
    "model = pipeline.fit(trainData)\n",
    "print(\"Training RMSE:\", model.stages[1].bestModel.summary.rootMeanSquaredError)"
   ]
  },
  {
   "cell_type": "markdown",
   "id": "mechanical-situation",
   "metadata": {},
   "source": [
    "The overall best model is characterized by the parameters below."
   ]
  },
  {
   "cell_type": "code",
   "execution_count": 17,
   "id": "freelance-repair",
   "metadata": {},
   "outputs": [
    {
     "name": "stdout",
     "output_type": "stream",
     "text": [
      "Best model params:\n",
      "- aggregationDepth: 2\n",
      "- elasticNetParam: 1.0\n",
      "- epsilon: 1.35\n",
      "- featuresCol: features\n",
      "- fitIntercept: True\n",
      "- labelCol: NumBikesDiff+1\n",
      "- loss: squaredError\n",
      "- maxIter: 100\n",
      "- predictionCol: prediction\n",
      "- regParam: 0.1\n",
      "- solver: auto\n",
      "- standardization: True\n",
      "- tol: 1e-06\n"
     ]
    }
   ],
   "source": [
    "print(\"Best model params:\")\n",
    "print(\"\\n\".join([f\"- {x[0].name}: {x[1]}\" for x in model.stages[1].bestModel.extractParamMap().items()]))"
   ]
  },
  {
   "cell_type": "markdown",
   "id": "supreme-screw",
   "metadata": {},
   "source": [
    "Finally, we apply the optimized model on our test data. We observe that the performance of this model on our test data is worse than the previous case: this is probably a case of overfitting, in which we have a model that fits too precisely our training/validation data and is not capable of generalizing properly on test data."
   ]
  },
  {
   "cell_type": "code",
   "execution_count": 18,
   "id": "banned-springfield",
   "metadata": {},
   "outputs": [
    {
     "name": "stdout",
     "output_type": "stream",
     "text": [
      "RMSE: 1.4464266930730674\n",
      "R2: 0.966183281019444\n"
     ]
    }
   ],
   "source": [
    "predictedTestData = LabelMapper().transform(model.transform(testData))\n",
    "\n",
    "rmse = rmseEvaluator.evaluate(predictedTestData)\n",
    "print(\"RMSE:\", rmse)\n",
    "\n",
    "r2 = r2Evaluator.evaluate(predictedTestData)\n",
    "print(\"R2:\", r2)\n",
    "\n",
    "resultsDF = resultsDF.append([\n",
    "    {\"Features\": \"Combined effect (CV)\", \"Metric\": \"RMSE\", \"Value\": rmse},\n",
    "    {\"Features\": \"Combined effect (CV)\", \"Metric\": \"R2\", \"Value\": r2}\n",
    "], ignore_index=True)"
   ]
  },
  {
   "cell_type": "markdown",
   "id": "naughty-learning",
   "metadata": {},
   "source": [
    "## Comparison of the results\n",
    "\n",
    "The two graphs below summarize the evolution of the RMSE and R2 metrics for the different sets of features tested."
   ]
  },
  {
   "cell_type": "code",
   "execution_count": 19,
   "id": "assisted-citizenship",
   "metadata": {},
   "outputs": [
    {
     "data": {
      "image/png": "[encoded data removed]",
      "text/plain": [
       "<Figure size 1080x360 with 2 Axes>"
      ]
     },
     "metadata": {},
     "output_type": "display_data"
    }
   ],
   "source": [
    "fig, ax = plt.subplots(1, 2, figsize=(15, 5))\n",
    "sns.lineplot(data=resultsDF[resultsDF[\"Metric\"] == \"RMSE\"], x=\"Features\", y=\"Value\", ax=ax[0])\n",
    "sns.lineplot(data=resultsDF[resultsDF[\"Metric\"] == \"R2\"], x=\"Features\", y=\"Value\", ax=ax[1])\n",
    "ax[0].set_xticklabels(labels=resultsDF[resultsDF[\"Metric\"] == \"RMSE\"][\"Features\"], rotation=45)\n",
    "ax[1].set_xticklabels(labels=resultsDF[resultsDF[\"Metric\"] == \"R2\"][\"Features\"], rotation=45);"
   ]
  }
 ],
 "metadata": {
  "kernelspec": {
   "display_name": "PySpark (Yarn)",
   "language": "python",
   "name": "pyspark_yarn"
  },
  "language_info": {
   "codemirror_mode": {
    "name": "ipython",
    "version": 3
   },
   "file_extension": ".py",
   "mimetype": "text/x-python",
   "name": "python",
   "nbconvert_exporter": "python",
   "pygments_lexer": "ipython3",
   "version": "3.7.9"
  }
 },
 "nbformat": 4,
 "nbformat_minor": 5
}
