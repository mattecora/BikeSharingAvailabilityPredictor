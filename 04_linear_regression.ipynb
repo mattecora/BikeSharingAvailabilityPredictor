{
 "cells": [
  {
   "cell_type": "markdown",
   "id": "prepared-repository",
   "metadata": {},
   "source": [
    "# Linear regression model on Spark\n",
    "\n",
    "In this notebook, we use a standard linear regression model (as implemented in Spark) to classify our pre-processed dataset. Specifically, we test the performance of our model with five different sets of features; then, we run a cross-validation on the one yielding the best results, to further optimize the obtained results."
   ]
  },
  {
   "cell_type": "code",
   "execution_count": 1,
   "id": "rising-tenant",
   "metadata": {},
   "outputs": [
    {
     "name": "stderr",
     "output_type": "stream",
     "text": [
      "\n",
      "Bad key \"text.kerning_factor\" on line 4 in\n",
      "/opt/anaconda3/envs/bigdatalab_cpu_202101/lib/python3.7/site-packages/matplotlib/mpl-data/stylelib/_classic_test_patch.mplstyle.\n",
      "You probably need to get an updated matplotlibrc file from\n",
      "https://github.com/matplotlib/matplotlib/blob/v3.1.2/matplotlibrc.template\n",
      "or from the matplotlib source distribution\n"
     ]
    }
   ],
   "source": [
    "from pyspark.ml import Pipeline, Transformer\n",
    "from pyspark.ml.feature import VectorAssembler, OneHotEncoder\n",
    "from pyspark.ml.regression import LinearRegression\n",
    "from pyspark.ml.evaluation import RegressionEvaluator\n",
    "from pyspark.ml.tuning import CrossValidator, ParamGridBuilder\n",
    "\n",
    "import pyspark.sql.functions as F\n",
    "import pandas as pd\n",
    "import matplotlib.pyplot as plt\n",
    "import seaborn as sns\n",
    "sns.set()"
   ]
  },
  {
   "cell_type": "markdown",
   "id": "spectacular-solution",
   "metadata": {},
   "source": [
    "## Input data parsing"
   ]
  },
  {
   "cell_type": "code",
   "execution_count": 2,
   "id": "contemporary-symphony",
   "metadata": {},
   "outputs": [],
   "source": [
    "inputPath = \"/user/s291516/preprocessed/\"\n",
    "trainData = spark.read.format(\"csv\").option(\"header\", True).option(\"inferSchema\", True).load(inputPath + \"trainData/\").cache()\n",
    "testData = spark.read.format(\"csv\").option(\"header\", True).option(\"inferSchema\", True).load(inputPath + \"testData/\").cache()"
   ]
  },
  {
   "cell_type": "markdown",
   "id": "grand-negotiation",
   "metadata": {},
   "source": [
    "## Evaluators definition"
   ]
  },
  {
   "cell_type": "code",
   "execution_count": 3,
   "id": "pretty-market",
   "metadata": {},
   "outputs": [],
   "source": [
    "rmseEvaluator = RegressionEvaluator(predictionCol=\"prediction\", labelCol=\"NumBikes+1\", metricName=\"rmse\")\n",
    "r2Evaluator = RegressionEvaluator(predictionCol=\"prediction\", labelCol=\"NumBikes+1\", metricName=\"r2\")\n",
    "resultsDF = pd.DataFrame(columns=[\"Features\", \"Metric\", \"Value\"])"
   ]
  },
  {
   "cell_type": "markdown",
   "id": "severe-quantum",
   "metadata": {},
   "source": [
    "## Label mapper definition\n",
    "\n",
    "For prediction purposes, we are going to use the \"diff\" version of the features as produced in the data preprocessing notebook. The `LabelMapper` transformer will be used to translate back the \"diff\" prediction to a full prediction, obtained by summing the obtained prediction to the value of the `NumBikes` attribute."
   ]
  },
  {
   "cell_type": "code",
   "execution_count": 4,
   "id": "homeless-macro",
   "metadata": {},
   "outputs": [],
   "source": [
    "class LabelMapper(Transformer):\n",
    "    def _transform(self, inputDF):\n",
    "        return inputDF.withColumn(\"prediction\", F.col(\"prediction\") + F.col(\"NumBikes\"))"
   ]
  },
  {
   "cell_type": "markdown",
   "id": "herbal-handle",
   "metadata": {},
   "source": [
    "## Solution #1: only numerical features\n",
    "\n",
    "In our first solution, we use only the numerical features exposed by our dataset (`NumBikesDiff-3`, `NumBikesDiff-2`, `NumBikesDiff-1`, `NumBikesDiff` and `NumBikes`) to predict the value of `NumBikesDiff+1`."
   ]
  },
  {
   "cell_type": "code",
   "execution_count": 5,
   "id": "coordinated-highlight",
   "metadata": {},
   "outputs": [
    {
     "name": "stdout",
     "output_type": "stream",
     "text": [
      "Training RMSE: 1.2696778011746317\n"
     ]
    }
   ],
   "source": [
    "pipeline = Pipeline(stages=[\n",
    "    VectorAssembler(inputCols=[\"NumBikesDiff-3\", \"NumBikesDiff-2\", \"NumBikesDiff-1\", \"NumBikesDiff\", \"NumBikes\"], outputCol=\"features\"),\n",
    "    LinearRegression(labelCol=\"NumBikesDiff+1\"),\n",
    "    LabelMapper()\n",
    "])\n",
    "\n",
    "model = pipeline.fit(trainData)\n",
    "resultsDF = resultsDF.append({\n",
    "    \"Features\": \"Only numerical\",\n",
    "    \"Metric\": \"TrainRMSE\",\n",
    "    \"Value\": model.stages[1].summary.rootMeanSquaredError\n",
    "}, ignore_index=True)\n",
    "print(\"Training RMSE:\", model.stages[1].summary.rootMeanSquaredError)"
   ]
  },
  {
   "cell_type": "markdown",
   "id": "utility-general",
   "metadata": {},
   "source": [
    "This model already presents some improvements over the baseline, as reflected in the following evaluation metrics."
   ]
  },
  {
   "cell_type": "code",
   "execution_count": 6,
   "id": "pursuant-engineer",
   "metadata": {},
   "outputs": [
    {
     "name": "stdout",
     "output_type": "stream",
     "text": [
      "RMSE: 1.4422666210457207\n",
      "R2: 0.9663775220166556\n"
     ]
    }
   ],
   "source": [
    "predictedTestData = model.transform(testData)\n",
    "\n",
    "rmse = rmseEvaluator.evaluate(predictedTestData)\n",
    "print(\"RMSE:\", rmse)\n",
    "\n",
    "r2 = r2Evaluator.evaluate(predictedTestData)\n",
    "print(\"R2:\", r2)\n",
    "\n",
    "resultsDF = resultsDF.append([\n",
    "    {\"Features\": \"Only numerical\", \"Metric\": \"RMSE\", \"Value\": rmse},\n",
    "    {\"Features\": \"Only numerical\", \"Metric\": \"R2\", \"Value\": r2}\n",
    "], ignore_index=True)"
   ]
  },
  {
   "cell_type": "markdown",
   "id": "handy-savage",
   "metadata": {},
   "source": [
    "## Solution #2: one-hot encoded categorical features\n",
    "\n",
    "In the second solution, we enlarge the feature space by adding the one-hot encoded version of our categorical features (the hour, the day of the week, and the zone of the station) into the model. In this case, it would have been incorrect to use the \"plain\" version of these categorical features: indeed, we are not performing regression on their values (i.e., their actual value is not instrumental to the prediction of the target variable). Rather, we use them to model an additional effect which gets summed to the baseline prediction, by means of a binary (0/1) variable."
   ]
  },
  {
   "cell_type": "code",
   "execution_count": 7,
   "id": "equivalent-bundle",
   "metadata": {},
   "outputs": [
    {
     "name": "stdout",
     "output_type": "stream",
     "text": [
      "Training RMSE: 1.2660696244537253\n"
     ]
    }
   ],
   "source": [
    "pipeline = Pipeline(stages=[\n",
    "    OneHotEncoder(inputCol=\"Hour\", outputCol=\"HourOH\"),\n",
    "    OneHotEncoder(inputCol=\"DayOfWeek\", outputCol=\"DayOfWeekOH\"),\n",
    "    OneHotEncoder(inputCol=\"Zone\", outputCol=\"ZoneOH\"),\n",
    "    VectorAssembler(inputCols=[\n",
    "        \"NumBikesDiff-3\", \"NumBikesDiff-2\", \"NumBikesDiff-1\", \"NumBikesDiff\", \"NumBikes\",\n",
    "        \"HourOH\", \"DayOfWeekOH\", \"ZoneOH\"\n",
    "    ], outputCol=\"features\"),\n",
    "    LinearRegression(labelCol=\"NumBikesDiff+1\"),\n",
    "    LabelMapper()\n",
    "])\n",
    "\n",
    "model = pipeline.fit(trainData)\n",
    "resultsDF = resultsDF.append({\n",
    "    \"Features\": \"Categorical OH\",\n",
    "    \"Metric\": \"TrainRMSE\",\n",
    "    \"Value\": model.stages[4].summary.rootMeanSquaredError\n",
    "}, ignore_index=True)\n",
    "print(\"Training RMSE:\", model.stages[4].summary.rootMeanSquaredError)"
   ]
  },
  {
   "cell_type": "markdown",
   "id": "foster-longitude",
   "metadata": {},
   "source": [
    "The resulting model performs slightly better than the previous one, as shown by the metrics below."
   ]
  },
  {
   "cell_type": "code",
   "execution_count": 8,
   "id": "funny-hawaiian",
   "metadata": {},
   "outputs": [
    {
     "name": "stdout",
     "output_type": "stream",
     "text": [
      "RMSE: 1.4386726782819166\n",
      "R2: 0.9665448790146447\n"
     ]
    }
   ],
   "source": [
    "predictedTestData = model.transform(testData)\n",
    "\n",
    "rmse = rmseEvaluator.evaluate(predictedTestData)\n",
    "print(\"RMSE:\", rmse)\n",
    "\n",
    "r2 = r2Evaluator.evaluate(predictedTestData)\n",
    "print(\"R2:\", r2)\n",
    "\n",
    "resultsDF = resultsDF.append([\n",
    "    {\"Features\": \"Categorical OH\", \"Metric\": \"RMSE\", \"Value\": rmse},\n",
    "    {\"Features\": \"Categorical OH\", \"Metric\": \"R2\", \"Value\": r2}\n",
    "], ignore_index=True)"
   ]
  },
  {
   "cell_type": "markdown",
   "id": "collectible-miller",
   "metadata": {},
   "source": [
    "## Solution #3: disjoint, effect-encoded categorical features\n",
    "\n",
    "In the third solution, we use the effect-encoded version of our categorical features, considering only the \"disjoint\" ones (i.e., we consider separately the effect of the hour, day of the week, and zone of the station)."
   ]
  },
  {
   "cell_type": "code",
   "execution_count": 9,
   "id": "center-picking",
   "metadata": {},
   "outputs": [
    {
     "name": "stdout",
     "output_type": "stream",
     "text": [
      "Training RMSE: 1.267447038018673\n"
     ]
    }
   ],
   "source": [
    "pipeline = Pipeline(stages=[\n",
    "    VectorAssembler(inputCols=[\n",
    "        \"NumBikesDiff-3\", \"NumBikesDiff-2\", \"NumBikesDiff-1\", \"NumBikesDiff\", \"NumBikes\",\n",
    "        \"AvgByHour\", \"AvgByWeekday\", \"AvgByZone\"\n",
    "    ], outputCol=\"features\"),\n",
    "    LinearRegression(labelCol=\"NumBikesDiff+1\"),\n",
    "    LabelMapper()\n",
    "])\n",
    "\n",
    "model = pipeline.fit(trainData)\n",
    "resultsDF = resultsDF.append({\n",
    "    \"Features\": \"Disjoint effect\",\n",
    "    \"Metric\": \"TrainRMSE\",\n",
    "    \"Value\": model.stages[1].summary.rootMeanSquaredError\n",
    "}, ignore_index=True)\n",
    "print(\"Training RMSE:\", model.stages[1].summary.rootMeanSquaredError)"
   ]
  },
  {
   "cell_type": "markdown",
   "id": "median-uncertainty",
   "metadata": {},
   "source": [
    "The resulting model performs somewhere in between the first and second solution."
   ]
  },
  {
   "cell_type": "code",
   "execution_count": 10,
   "id": "covered-cooking",
   "metadata": {},
   "outputs": [
    {
     "name": "stdout",
     "output_type": "stream",
     "text": [
      "RMSE: 1.4404395133188506\n",
      "R2: 0.9664626560362888\n"
     ]
    }
   ],
   "source": [
    "predictedTestData = model.transform(testData)\n",
    "\n",
    "rmse = rmseEvaluator.evaluate(predictedTestData)\n",
    "print(\"RMSE:\", rmse)\n",
    "\n",
    "r2 = r2Evaluator.evaluate(predictedTestData)\n",
    "print(\"R2:\", r2)\n",
    "\n",
    "resultsDF = resultsDF.append([\n",
    "    {\"Features\": \"Disjoint effect\", \"Metric\": \"RMSE\", \"Value\": rmse},\n",
    "    {\"Features\": \"Disjoint effect\", \"Metric\": \"R2\", \"Value\": r2}\n",
    "], ignore_index=True)"
   ]
  },
  {
   "cell_type": "markdown",
   "id": "medium-favor",
   "metadata": {},
   "source": [
    "## Solution #4: combined, effect-encoded categorical features\n",
    "\n",
    "Here, we consider a solution in which we use all the available numerical features, plus the joint average computed considering all the categorical values at once."
   ]
  },
  {
   "cell_type": "code",
   "execution_count": 11,
   "id": "explicit-fundamental",
   "metadata": {},
   "outputs": [
    {
     "name": "stdout",
     "output_type": "stream",
     "text": [
      "Training RMSE: 1.2570201799142755\n"
     ]
    }
   ],
   "source": [
    "pipeline = Pipeline(stages=[\n",
    "    VectorAssembler(inputCols=[\"NumBikesDiff-3\", \"NumBikesDiff-2\", \"NumBikesDiff-1\", \"NumBikesDiff\", \"NumBikes\", \"AvgCombined\"], outputCol=\"features\"),\n",
    "    LinearRegression(labelCol=\"NumBikesDiff+1\"),\n",
    "    LabelMapper()\n",
    "])\n",
    "\n",
    "model = pipeline.fit(trainData)\n",
    "resultsDF = resultsDF.append({\n",
    "    \"Features\": \"Combined effect\",\n",
    "    \"Metric\": \"TrainRMSE\",\n",
    "    \"Value\": model.stages[1].summary.rootMeanSquaredError\n",
    "}, ignore_index=True)\n",
    "print(\"Training RMSE:\", model.stages[1].summary.rootMeanSquaredError)"
   ]
  },
  {
   "cell_type": "markdown",
   "id": "everyday-spirituality",
   "metadata": {},
   "source": [
    "This solution improves quite a bit over the previous models, presenting the lowest observed RMSE and highest R2 coefficient."
   ]
  },
  {
   "cell_type": "code",
   "execution_count": 12,
   "id": "identical-responsibility",
   "metadata": {},
   "outputs": [
    {
     "name": "stdout",
     "output_type": "stream",
     "text": [
      "RMSE: 1.4337551592291093\n",
      "R2: 0.9667731936707786\n"
     ]
    }
   ],
   "source": [
    "predictedTestData = model.transform(testData)\n",
    "\n",
    "rmse = rmseEvaluator.evaluate(predictedTestData)\n",
    "print(\"RMSE:\", rmse)\n",
    "\n",
    "r2 = r2Evaluator.evaluate(predictedTestData)\n",
    "print(\"R2:\", r2)\n",
    "\n",
    "resultsDF = resultsDF.append([\n",
    "    {\"Features\": \"Combined effect\", \"Metric\": \"RMSE\", \"Value\": rmse},\n",
    "    {\"Features\": \"Combined effect\", \"Metric\": \"R2\", \"Value\": r2}\n",
    "], ignore_index=True)"
   ]
  },
  {
   "cell_type": "markdown",
   "id": "running-fourth",
   "metadata": {},
   "source": [
    "## Solution #5: putting all together\n",
    "\n",
    "Finally, we test a solution in which all the aforementioned features are fed to the regression algorithm."
   ]
  },
  {
   "cell_type": "code",
   "execution_count": 13,
   "id": "working-selling",
   "metadata": {},
   "outputs": [
    {
     "name": "stdout",
     "output_type": "stream",
     "text": [
      "Training RMSE: 1.2551960966444786\n"
     ]
    }
   ],
   "source": [
    "pipeline = Pipeline(stages=[\n",
    "    OneHotEncoder(inputCol=\"Hour\", outputCol=\"HourOH\"),\n",
    "    OneHotEncoder(inputCol=\"DayOfWeek\", outputCol=\"DayOfWeekOH\"),\n",
    "    OneHotEncoder(inputCol=\"Zone\", outputCol=\"ZoneOH\"),\n",
    "    VectorAssembler(inputCols=[\n",
    "        \"NumBikesDiff-3\", \"NumBikesDiff-2\", \"NumBikesDiff-1\", \"NumBikesDiff\", \"NumBikes\",\n",
    "        \"HourOH\", \"DayOfWeekOH\", \"ZoneOH\",\n",
    "        \"AvgByHour\", \"AvgByWeekday\", \"AvgByZone\", \"AvgCombined\"\n",
    "    ], outputCol=\"features\"),\n",
    "    LinearRegression(labelCol=\"NumBikesDiff+1\"),\n",
    "    LabelMapper()\n",
    "])\n",
    "\n",
    "model = pipeline.fit(trainData)\n",
    "resultsDF = resultsDF.append({\n",
    "    \"Features\": \"All\",\n",
    "    \"Metric\": \"TrainRMSE\",\n",
    "    \"Value\": model.stages[4].summary.rootMeanSquaredError\n",
    "}, ignore_index=True)\n",
    "print(\"Training RMSE:\", model.stages[4].summary.rootMeanSquaredError)"
   ]
  },
  {
   "cell_type": "markdown",
   "id": "neither-turning",
   "metadata": {},
   "source": [
    "With respect to the previous case, we observe a slight improvement of the reference metrics, although this might not be enough to justify the usage of a largely more complex model (we remind that here, due to the usage of one-hot encoded categorical variables, we are regressing on a significantly larger set of features)."
   ]
  },
  {
   "cell_type": "code",
   "execution_count": 14,
   "id": "public-annotation",
   "metadata": {},
   "outputs": [
    {
     "name": "stdout",
     "output_type": "stream",
     "text": [
      "RMSE: 1.4316515430100938\n",
      "R2: 0.9668706233775962\n"
     ]
    }
   ],
   "source": [
    "predictedTestData = model.transform(testData)\n",
    "\n",
    "rmse = rmseEvaluator.evaluate(predictedTestData)\n",
    "print(\"RMSE:\", rmse)\n",
    "\n",
    "r2 = r2Evaluator.evaluate(predictedTestData)\n",
    "print(\"R2:\", r2)\n",
    "\n",
    "resultsDF = resultsDF.append([\n",
    "    {\"Features\": \"All\", \"Metric\": \"RMSE\", \"Value\": rmse},\n",
    "    {\"Features\": \"All\", \"Metric\": \"R2\", \"Value\": r2}\n",
    "], ignore_index=True)"
   ]
  },
  {
   "cell_type": "markdown",
   "id": "stock-diamond",
   "metadata": {},
   "source": [
    "## Hyperparameter optimization\n",
    "\n",
    "For solution #5, we run an optimization procedure to determine the best value for the parameters of the regression model, so to increase even further the performance of our model. To do so, we used the parameter grid defined in the cell below, in which we tested different values of all the parameters of Spark's linear regression model; then, we fitted a `Pipeline` object using a `CrossValidator` stage (the number of CV folds was set to its default value of 3)."
   ]
  },
  {
   "cell_type": "code",
   "execution_count": 15,
   "id": "ecological-convert",
   "metadata": {},
   "outputs": [],
   "source": [
    "lr = LinearRegression()\n",
    "grid = ParamGridBuilder() \\\n",
    "    .baseOn({lr.labelCol: \"NumBikesDiff+1\"}) \\\n",
    "    .addGrid(lr.maxIter, [100, 500, 1000]) \\\n",
    "    .addGrid(lr.regParam, [0.0, 0.1, 0.01, 0.001]) \\\n",
    "    .addGrid(lr.elasticNetParam, [0.0, 0.25, 0.5, 0.75, 1]) \\\n",
    "    .build()"
   ]
  },
  {
   "cell_type": "code",
   "execution_count": 16,
   "id": "distinguished-norfolk",
   "metadata": {},
   "outputs": [
    {
     "name": "stdout",
     "output_type": "stream",
     "text": [
      "Training RMSE: 1.255198914549281\n"
     ]
    }
   ],
   "source": [
    "pipeline = Pipeline(stages=[\n",
    "    OneHotEncoder(inputCol=\"Hour\", outputCol=\"HourOH\"),\n",
    "    OneHotEncoder(inputCol=\"DayOfWeek\", outputCol=\"DayOfWeekOH\"),\n",
    "    OneHotEncoder(inputCol=\"Zone\", outputCol=\"ZoneOH\"),\n",
    "    VectorAssembler(inputCols=[\n",
    "        \"NumBikesDiff-3\", \"NumBikesDiff-2\", \"NumBikesDiff-1\", \"NumBikesDiff\", \"NumBikes\",\n",
    "        \"HourOH\", \"DayOfWeekOH\", \"ZoneOH\",\n",
    "        \"AvgByHour\", \"AvgByWeekday\", \"AvgByZone\", \"AvgCombined\"\n",
    "    ], outputCol=\"features\"),\n",
    "    CrossValidator(estimator=lr, estimatorParamMaps=grid, evaluator=RegressionEvaluator(predictionCol=\"prediction\", labelCol=\"NumBikesDiff+1\", metricName=\"rmse\")),\n",
    "    LabelMapper()\n",
    "])\n",
    "\n",
    "model = pipeline.fit(trainData)\n",
    "resultsDF = resultsDF.append({\n",
    "    \"Features\": \"All (CV)\",\n",
    "    \"Metric\": \"TrainRMSE\",\n",
    "    \"Value\": model.stages[4].bestModel.summary.rootMeanSquaredError\n",
    "}, ignore_index=True)\n",
    "print(\"Training RMSE:\", model.stages[4].bestModel.summary.rootMeanSquaredError)"
   ]
  },
  {
   "cell_type": "markdown",
   "id": "monthly-discipline",
   "metadata": {},
   "source": [
    "The overall best model is characterized by the parameters below."
   ]
  },
  {
   "cell_type": "code",
   "execution_count": 17,
   "id": "offshore-representation",
   "metadata": {},
   "outputs": [
    {
     "name": "stdout",
     "output_type": "stream",
     "text": [
      "Best model params:\n",
      "- aggregationDepth: 2\n",
      "- elasticNetParam: 0.25\n",
      "- epsilon: 1.35\n",
      "- featuresCol: features\n",
      "- fitIntercept: True\n",
      "- labelCol: NumBikesDiff+1\n",
      "- loss: squaredError\n",
      "- maxIter: 500\n",
      "- predictionCol: prediction\n",
      "- regParam: 0.001\n",
      "- solver: auto\n",
      "- standardization: True\n",
      "- tol: 1e-06\n"
     ]
    }
   ],
   "source": [
    "print(\"Best model params:\")\n",
    "print(\"\\n\".join([f\"- {x[0].name}: {x[1]}\" for x in model.stages[4].bestModel.extractParamMap().items()]))"
   ]
  },
  {
   "cell_type": "markdown",
   "id": "secret-frame",
   "metadata": {},
   "source": [
    "Finally, we apply the optimized model on our test data. We observe that the performance of this model on our test data is slightly worse than the previous case: this is probably a case of overfitting, in which we have a model that fits too precisely our training/validation data and is not capable of generalizing properly on test data."
   ]
  },
  {
   "cell_type": "code",
   "execution_count": 18,
   "id": "threaded-announcement",
   "metadata": {},
   "outputs": [
    {
     "name": "stdout",
     "output_type": "stream",
     "text": [
      "RMSE: 1.4316773044154179\n",
      "R2: 0.966869431094485\n"
     ]
    }
   ],
   "source": [
    "predictedTestData = model.transform(testData)\n",
    "\n",
    "rmse = rmseEvaluator.evaluate(predictedTestData)\n",
    "print(\"RMSE:\", rmse)\n",
    "\n",
    "r2 = r2Evaluator.evaluate(predictedTestData)\n",
    "print(\"R2:\", r2)\n",
    "\n",
    "resultsDF = resultsDF.append([\n",
    "    {\"Features\": \"All (CV)\", \"Metric\": \"RMSE\", \"Value\": rmse},\n",
    "    {\"Features\": \"All (CV)\", \"Metric\": \"R2\", \"Value\": r2}\n",
    "], ignore_index=True)"
   ]
  },
  {
   "cell_type": "markdown",
   "id": "premium-january",
   "metadata": {},
   "source": [
    "## Comparison of the results\n",
    "\n",
    "The two graphs below summarize the evolution of the RMSE and R2 metrics for the different sets of features tested."
   ]
  },
  {
   "cell_type": "code",
   "execution_count": 19,
   "id": "limited-suspect",
   "metadata": {},
   "outputs": [
    {
     "data": {
      "image/png": "[encoded data removed]",
      "text/plain": [
       "<Figure size 1440x360 with 3 Axes>"
      ]
     },
     "metadata": {},
     "output_type": "display_data"
    }
   ],
   "source": [
    "fig, ax = plt.subplots(1, 3, figsize=(20, 5))\n",
    "sns.lineplot(data=resultsDF[resultsDF[\"Metric\"] == \"TrainRMSE\"], x=\"Features\", y=\"Value\", ax=ax[0])\n",
    "sns.lineplot(data=resultsDF[resultsDF[\"Metric\"] == \"RMSE\"], x=\"Features\", y=\"Value\", ax=ax[1])\n",
    "sns.lineplot(data=resultsDF[resultsDF[\"Metric\"] == \"R2\"], x=\"Features\", y=\"Value\", ax=ax[2])\n",
    "ax[0].set_xticklabels(labels=resultsDF[resultsDF[\"Metric\"] == \"TrainRMSE\"][\"Features\"], rotation=45)\n",
    "ax[1].set_xticklabels(labels=resultsDF[resultsDF[\"Metric\"] == \"RMSE\"][\"Features\"], rotation=45)\n",
    "ax[2].set_xticklabels(labels=resultsDF[resultsDF[\"Metric\"] == \"R2\"][\"Features\"], rotation=45);"
   ]
  }
 ],
 "metadata": {
  "kernelspec": {
   "display_name": "PySpark (Yarn)",
   "language": "python",
   "name": "pyspark_yarn"
  },
  "language_info": {
   "codemirror_mode": {
    "name": "ipython",
    "version": 3
   },
   "file_extension": ".py",
   "mimetype": "text/x-python",
   "name": "python",
   "nbconvert_exporter": "python",
   "pygments_lexer": "ipython3",
   "version": "3.7.9"
  }
 },
 "nbformat": 4,
 "nbformat_minor": 5
}
