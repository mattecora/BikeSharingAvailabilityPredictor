{
 "cells": [
  {
   "cell_type": "markdown",
   "id": "universal-matrix",
   "metadata": {},
   "source": [
    "# Training curve of the GBT model\n",
    "\n",
    "In this notebook, we analyze the impact of the training set size on the training and test set performance of our best algorithm implemented on Spark (a gradient boosted tree with tuned hyperparameters)."
   ]
  },
  {
   "cell_type": "code",
   "execution_count": 1,
   "id": "bibliographic-depression",
   "metadata": {},
   "outputs": [
    {
     "name": "stderr",
     "output_type": "stream",
     "text": [
      "\n",
      "Bad key \"text.kerning_factor\" on line 4 in\n",
      "/opt/anaconda3/envs/bigdatalab_cpu_202101/lib/python3.7/site-packages/matplotlib/mpl-data/stylelib/_classic_test_patch.mplstyle.\n",
      "You probably need to get an updated matplotlibrc file from\n",
      "https://github.com/matplotlib/matplotlib/blob/v3.1.2/matplotlibrc.template\n",
      "or from the matplotlib source distribution\n"
     ]
    }
   ],
   "source": [
    "from pyspark.ml import Pipeline, Transformer\n",
    "from pyspark.ml.feature import VectorAssembler\n",
    "from pyspark.ml.regression import GBTRegressor\n",
    "from pyspark.ml.evaluation import RegressionEvaluator\n",
    "\n",
    "import pyspark.sql.functions as F\n",
    "import pandas as pd\n",
    "import matplotlib.pyplot as plt\n",
    "import seaborn as sns\n",
    "sns.set()"
   ]
  },
  {
   "cell_type": "markdown",
   "id": "operational-unknown",
   "metadata": {},
   "source": [
    "## Input data parsing"
   ]
  },
  {
   "cell_type": "code",
   "execution_count": 2,
   "id": "virgin-reynolds",
   "metadata": {},
   "outputs": [],
   "source": [
    "inputPath = \"/user/s291516/preprocessed/\"\n",
    "trainData = spark.read.format(\"csv\").option(\"header\", True).option(\"inferSchema\", True).load(inputPath + \"trainData/\").cache()\n",
    "testData = spark.read.format(\"csv\").option(\"header\", True).option(\"inferSchema\", True).load(inputPath + \"testData/\").cache()"
   ]
  },
  {
   "cell_type": "markdown",
   "id": "controlling-liverpool",
   "metadata": {},
   "source": [
    "## Evaluators definition"
   ]
  },
  {
   "cell_type": "code",
   "execution_count": 3,
   "id": "residential-assets",
   "metadata": {},
   "outputs": [],
   "source": [
    "rmseEvaluator = RegressionEvaluator(predictionCol=\"prediction\", labelCol=\"NumBikes+1\", metricName=\"rmse\")\n",
    "r2Evaluator = RegressionEvaluator(predictionCol=\"prediction\", labelCol=\"NumBikes+1\", metricName=\"r2\")\n",
    "resultsDF = pd.DataFrame(columns=[\"Fraction\", \"Metric\", \"Train\", \"Test\"])"
   ]
  },
  {
   "cell_type": "markdown",
   "id": "involved-replica",
   "metadata": {},
   "source": [
    "## Label mapper definition"
   ]
  },
  {
   "cell_type": "code",
   "execution_count": 4,
   "id": "clear-infrastructure",
   "metadata": {},
   "outputs": [],
   "source": [
    "class LabelMapper(Transformer):\n",
    "    def _transform(self, inputDF):\n",
    "        return inputDF.withColumn(\"prediction\", F.col(\"prediction\") + F.col(\"NumBikes\"))"
   ]
  },
  {
   "cell_type": "markdown",
   "id": "leading-school",
   "metadata": {},
   "source": [
    "## Pipeline definition"
   ]
  },
  {
   "cell_type": "code",
   "execution_count": 5,
   "id": "sharing-vermont",
   "metadata": {},
   "outputs": [],
   "source": [
    "pipeline = Pipeline(stages=[\n",
    "    VectorAssembler(inputCols=[\n",
    "        \"NumBikesDiff-3\", \"NumBikesDiff-2\", \"NumBikesDiff-1\", \"NumBikesDiff\", \"NumBikes\",\n",
    "        \"Hour\", \"DayOfWeek\", \"Zone\",\n",
    "        \"AvgByHour\", \"AvgByWeekday\", \"AvgByZone\", \"AvgCombined\"\n",
    "    ], outputCol=\"features\"),\n",
    "    GBTRegressor(labelCol=\"NumBikesDiff+1\", seed=42, maxDepth=5, maxIter=50, minInstancesPerNode=10, stepSize=0.25),\n",
    "    LabelMapper()\n",
    "])"
   ]
  },
  {
   "cell_type": "markdown",
   "id": "tribal-fancy",
   "metadata": {},
   "source": [
    "## Folding\n",
    "\n",
    "To analyze the impact of the training set size on the training and test set performance of the algorithm, we first split our training dataset in 10 non-overlapping folds; this is achieved by assigning each training record to a random number between 0 and 9. The (approximately equal) number of records assigned to each fold is reported as the output of this cell."
   ]
  },
  {
   "cell_type": "code",
   "execution_count": 6,
   "id": "measured-masters",
   "metadata": {},
   "outputs": [
    {
     "name": "stdout",
     "output_type": "stream",
     "text": [
      "+----+------+\n",
      "|Fold| count|\n",
      "+----+------+\n",
      "|   0|230792|\n",
      "|   1|229718|\n",
      "|   2|229880|\n",
      "|   3|230765|\n",
      "|   4|229868|\n",
      "|   5|229098|\n",
      "|   6|230369|\n",
      "|   7|230405|\n",
      "|   8|229676|\n",
      "|   9|229785|\n",
      "+----+------+\n",
      "\n"
     ]
    }
   ],
   "source": [
    "numFolds = 10\n",
    "trainData = trainData.withColumn(\"Fold\", F.floor(F.rand(seed=42) * numFolds))\n",
    "trainData.groupBy(\"Fold\").count().orderBy(\"Fold\").show()"
   ]
  },
  {
   "cell_type": "markdown",
   "id": "remarkable-discipline",
   "metadata": {},
   "source": [
    "## Performance measurements\n",
    "\n",
    "After folding, here we train 10 models, using at each iteration $i$ the first $i$ training folds as input. Once a model is trained, we use it to transform both the training sample and the full test set to compute the metrics of interest, which are also reported as output."
   ]
  },
  {
   "cell_type": "code",
   "execution_count": 7,
   "id": "fancy-helmet",
   "metadata": {},
   "outputs": [
    {
     "name": "stdout",
     "output_type": "stream",
     "text": [
      "Completed iteration #1 (RMSE train: 1.4219504769838496, R2 train: 0.9621287227627202, RMSE test: 1.416493715971213, R2 test: 0.9675684341908405).\n",
      "Completed iteration #2 (RMSE train: 1.4280731339923214, R2 train: 0.9618644428339801, RMSE test: 1.413753176612466, R2 test: 0.9676938057360542).\n",
      "Completed iteration #3 (RMSE train: 1.4316784236831261, R2 train: 0.9616363054997069, RMSE test: 1.4127071234137567, R2 test: 0.967741595542806).\n",
      "Completed iteration #4 (RMSE train: 1.4305384806964163, R2 train: 0.9616778856534496, RMSE test: 1.4116468566403926, R2 test: 0.9677899986109062).\n",
      "Completed iteration #5 (RMSE train: 1.4337178556803314, R2 train: 0.9615212688479094, RMSE test: 1.4116471240139354, R2 test: 0.9677899864094084).\n",
      "Completed iteration #6 (RMSE train: 1.4343390375893752, R2 train: 0.9615039004083412, RMSE test: 1.4113002048872583, R2 test: 0.9678058159981626).\n",
      "Completed iteration #7 (RMSE train: 1.4352820112137008, R2 train: 0.9614561960517042, RMSE test: 1.4109010966569357, R2 test: 0.967824022113275).\n",
      "Completed iteration #8 (RMSE train: 1.4367031099252583, R2 train: 0.9613767474077848, RMSE test: 1.4111916488151168, R2 test: 0.9678107685089573).\n",
      "Completed iteration #9 (RMSE train: 1.4367488208549148, R2 train: 0.9613607986669626, RMSE test: 1.4108107519907935, R2 test: 0.9678281426500253).\n",
      "Completed iteration #10 (RMSE train: 1.4368263189612476, R2 train: 0.9613786285295576, RMSE test: 1.410563309430391, R2 test: 0.9678394269255819).\n"
     ]
    }
   ],
   "source": [
    "for i in range(numFolds):\n",
    "    # Create the train sample by selecting the first i folds\n",
    "    trainSample = trainData.filter(F.col(\"Fold\") <= i)\n",
    "    \n",
    "    # Fit the pipeline on the train sample\n",
    "    model = pipeline.fit(trainSample)\n",
    "    \n",
    "    # Evaluate on the training and test sets\n",
    "    trainRMSE = rmseEvaluator.evaluate(model.transform(trainSample))\n",
    "    trainR2 = r2Evaluator.evaluate(model.transform(trainSample))\n",
    "    testRMSE = rmseEvaluator.evaluate(model.transform(testData))\n",
    "    testR2 = r2Evaluator.evaluate(model.transform(testData))\n",
    "    resultsDF = resultsDF.append([\n",
    "        {\"Fraction\": (i + 1) / numFolds, \"Metric\": \"RMSE\", \"Train\": trainRMSE, \"Test\": testRMSE},\n",
    "        {\"Fraction\": (i + 1) / numFolds, \"Metric\": \"R2\", \"Train\": trainR2, \"Test\": testR2}\n",
    "    ], ignore_index=True)\n",
    "    \n",
    "    print(f\"Completed iteration #{i + 1} (RMSE train: {trainRMSE}, R2 train: {trainR2}, RMSE test: {testRMSE}, R2 test: {testR2}).\")"
   ]
  },
  {
   "cell_type": "markdown",
   "id": "religious-extreme",
   "metadata": {},
   "source": [
    "Results are visualized in the following charts. We note how the training set metrics get worse (increased RMSE, decreased R2) for increasing training set size, while the test set metrics improve. Indeed, when we use a smaller training set, the model is able to better fit the fewer training records; however, the resulting model does not generalize properly on the test sets' unobserved records. Increasing the training size leads to decreased training set performance (it is harder to perfectly fit more data), but increased test set performance as the model is more robust.\n",
    "\n",
    "For this algorithm, we also find that the test set metrics are actually always higher than the training set ones. This is certainly unusual, but not unexpected given the \"uniformity\" of our data and the size difference between training and test sets."
   ]
  },
  {
   "cell_type": "code",
   "execution_count": 8,
   "id": "progressive-philadelphia",
   "metadata": {},
   "outputs": [
    {
     "data": {
      "image/png": "[encoded data removed]",
      "text/plain": [
       "<Figure size 1080x360 with 2 Axes>"
      ]
     },
     "metadata": {},
     "output_type": "display_data"
    }
   ],
   "source": [
    "fig, ax = plt.subplots(1, 2, figsize=(15, 5))\n",
    "resultsDF[resultsDF[\"Metric\"] == \"RMSE\"].plot(x=\"Fraction\", y=[\"Train\", \"Test\"], ax=ax[0], marker=\"o\")\n",
    "resultsDF[resultsDF[\"Metric\"] == \"R2\"].plot(x=\"Fraction\", y=[\"Train\", \"Test\"], ax=ax[1], marker=\"o\")\n",
    "ax[0].set_xticks([(i + 1) / numFolds for i in range(numFolds)])\n",
    "ax[1].set_xticks([(i + 1) / numFolds for i in range(numFolds)])\n",
    "ax[0].set_xlabel(\"Training set fraction\")\n",
    "ax[1].set_xlabel(\"Training set fraction\")\n",
    "ax[0].set_ylabel(\"Root MSE\")\n",
    "ax[1].set_ylabel(\"R2 coefficient\");"
   ]
  }
 ],
 "metadata": {
  "kernelspec": {
   "display_name": "PySpark (Yarn)",
   "language": "python",
   "name": "pyspark_yarn"
  },
  "language_info": {
   "codemirror_mode": {
    "name": "ipython",
    "version": 3
   },
   "file_extension": ".py",
   "mimetype": "text/x-python",
   "name": "python",
   "nbconvert_exporter": "python",
   "pygments_lexer": "ipython3",
   "version": "3.7.9"
  }
 },
 "nbformat": 4,
 "nbformat_minor": 5
}
