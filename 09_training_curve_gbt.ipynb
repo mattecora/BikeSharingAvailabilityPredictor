{
 "cells": [
  {
   "cell_type": "markdown",
   "id": "involved-adams",
   "metadata": {},
   "source": [
    "# Training curve of the GBT model\n",
    "\n",
    "In this final notebook, we analyze the impact of the training set size on the training and test set performance of our best algorithm implemented on Spark (a gradient boosted tree with tuned hyperparameters)."
   ]
  },
  {
   "cell_type": "code",
   "execution_count": 1,
   "id": "combined-soundtrack",
   "metadata": {},
   "outputs": [
    {
     "name": "stderr",
     "output_type": "stream",
     "text": [
      "\n",
      "Bad key \"text.kerning_factor\" on line 4 in\n",
      "/opt/anaconda3/envs/bigdatalab_cpu_202101/lib/python3.7/site-packages/matplotlib/mpl-data/stylelib/_classic_test_patch.mplstyle.\n",
      "You probably need to get an updated matplotlibrc file from\n",
      "https://github.com/matplotlib/matplotlib/blob/v3.1.2/matplotlibrc.template\n",
      "or from the matplotlib source distribution\n"
     ]
    }
   ],
   "source": [
    "from pyspark.ml import Pipeline, Transformer\n",
    "from pyspark.ml.feature import VectorAssembler\n",
    "from pyspark.ml.regression import GBTRegressor\n",
    "from pyspark.ml.evaluation import RegressionEvaluator\n",
    "\n",
    "import pyspark.sql.functions as F\n",
    "import pandas as pd\n",
    "import matplotlib.pyplot as plt\n",
    "import seaborn as sns\n",
    "sns.set()"
   ]
  },
  {
   "cell_type": "markdown",
   "id": "herbal-discipline",
   "metadata": {},
   "source": [
    "## Input data parsing"
   ]
  },
  {
   "cell_type": "code",
   "execution_count": 2,
   "id": "sound-california",
   "metadata": {},
   "outputs": [],
   "source": [
    "inputPath = \"/user/s291516/preprocessed/\"\n",
    "trainData = spark.read.format(\"csv\").option(\"header\", True).option(\"inferSchema\", True).load(inputPath + \"trainData/\").cache()\n",
    "testData = spark.read.format(\"csv\").option(\"header\", True).option(\"inferSchema\", True).load(inputPath + \"testData/\").cache()"
   ]
  },
  {
   "cell_type": "markdown",
   "id": "actual-belize",
   "metadata": {},
   "source": [
    "## Evaluators definition"
   ]
  },
  {
   "cell_type": "code",
   "execution_count": 3,
   "id": "pressed-romance",
   "metadata": {},
   "outputs": [],
   "source": [
    "rmseEvaluator = RegressionEvaluator(predictionCol=\"prediction\", labelCol=\"NumBikes+1\", metricName=\"rmse\")\n",
    "r2Evaluator = RegressionEvaluator(predictionCol=\"prediction\", labelCol=\"NumBikes+1\", metricName=\"r2\")\n",
    "resultsDF = pd.DataFrame(columns=[\"Fraction\", \"Metric\", \"Train\", \"Test\"])"
   ]
  },
  {
   "cell_type": "markdown",
   "id": "delayed-garbage",
   "metadata": {},
   "source": [
    "## Label mapper definition"
   ]
  },
  {
   "cell_type": "code",
   "execution_count": 4,
   "id": "accepted-monthly",
   "metadata": {},
   "outputs": [],
   "source": [
    "class LabelMapper(Transformer):\n",
    "    def _transform(self, inputDF):\n",
    "        return inputDF.withColumn(\"prediction\", F.col(\"prediction\") + F.col(\"NumBikes\"))"
   ]
  },
  {
   "cell_type": "markdown",
   "id": "velvet-driver",
   "metadata": {},
   "source": [
    "## Pipeline definition"
   ]
  },
  {
   "cell_type": "code",
   "execution_count": 5,
   "id": "turned-laugh",
   "metadata": {},
   "outputs": [],
   "source": [
    "pipeline = Pipeline(stages=[\n",
    "    VectorAssembler(inputCols=[\n",
    "        \"NumBikesDiff-3\", \"NumBikesDiff-2\", \"NumBikesDiff-1\", \"NumBikesDiff\", \"NumBikes\",\n",
    "        \"Hour\", \"DayOfWeek\", \"Zone\",\n",
    "        \"AvgByHour\", \"AvgByWeekday\", \"AvgByZone\", \"AvgCombined\"\n",
    "    ], outputCol=\"features\"),\n",
    "    GBTRegressor(labelCol=\"NumBikesDiff+1\", seed=42, maxIter=50, stepSize=0.25),\n",
    "    LabelMapper()\n",
    "])"
   ]
  },
  {
   "cell_type": "markdown",
   "id": "above-survivor",
   "metadata": {},
   "source": [
    "## Sampling"
   ]
  },
  {
   "cell_type": "code",
   "execution_count": 6,
   "id": "southeast-startup",
   "metadata": {},
   "outputs": [
    {
     "name": "stdout",
     "output_type": "stream",
     "text": [
      "+----+------+\n",
      "|Fold| count|\n",
      "+----+------+\n",
      "|   0|230792|\n",
      "|   1|229718|\n",
      "|   2|229880|\n",
      "|   3|230765|\n",
      "|   4|229868|\n",
      "|   5|229098|\n",
      "|   6|230369|\n",
      "|   7|230405|\n",
      "|   8|229676|\n",
      "|   9|229785|\n",
      "+----+------+\n",
      "\n"
     ]
    }
   ],
   "source": [
    "numFolds = 10\n",
    "trainData = trainData.withColumn(\"Fold\", F.floor(F.rand(seed=42) * numFolds))\n",
    "trainData.groupBy(\"Fold\").count().orderBy(\"Fold\").show()"
   ]
  },
  {
   "cell_type": "markdown",
   "id": "annual-smooth",
   "metadata": {},
   "source": [
    "## Performance measurements"
   ]
  },
  {
   "cell_type": "code",
   "execution_count": 7,
   "id": "curious-culture",
   "metadata": {},
   "outputs": [
    {
     "name": "stdout",
     "output_type": "stream",
     "text": [
      "Completed iteration #1 (RMSE train: 1.4194738707966563, R2 train: 0.9622605284229473, RMSE test: 1.417468521952422, R2 test: 0.967523781168749).\n",
      "Completed iteration #2 (RMSE train: 1.4269255019217502, R2 train: 0.9619257114089291, RMSE test: 1.4141573962146208, R2 test: 0.9676753291531671).\n",
      "Completed iteration #3 (RMSE train: 1.43113665728232, R2 train: 0.961665334683697, RMSE test: 1.41252407821595, R2 test: 0.9677499544777707).\n",
      "Completed iteration #4 (RMSE train: 1.430542682589848, R2 train: 0.9616776605274858, RMSE test: 1.4123073662734495, R2 test: 0.9677598494367148).\n",
      "Completed iteration #5 (RMSE train: 1.433626523443784, R2 train: 0.9615261711187771, RMSE test: 1.4114516335686191, R2 test: 0.9677989069303999).\n",
      "Completed iteration #6 (RMSE train: 1.4348222145106344, R2 train: 0.9614779601539117, RMSE test: 1.4114634577589271, R2 test: 0.967798367410039).\n",
      "Completed iteration #7 (RMSE train: 1.4351724301290991, R2 train: 0.961462081321043, RMSE test: 1.4109308036990456, R2 test: 0.9678226671448862).\n",
      "Completed iteration #8 (RMSE train: 1.4366938756923866, R2 train: 0.9613772438986186, RMSE test: 1.410830429059855, R2 test: 0.9678272452195618).\n",
      "Completed iteration #9 (RMSE train: 1.4366051673000095, R2 train: 0.961368524973827, RMSE test: 1.4106438641995378, R2 test: 0.9678357535541039).\n",
      "Completed iteration #10 (RMSE train: 1.437001438649184, R2 train: 0.9613692136481792, RMSE test: 1.4107563085742454, R2 test: 0.9678306256365381).\n"
     ]
    }
   ],
   "source": [
    "for i in range(numFolds):\n",
    "    # Create the train sample by selecting the first i folds\n",
    "    trainSample = trainData.filter(F.col(\"Fold\") <= i)\n",
    "    \n",
    "    # Fit the pipeline on the train sample\n",
    "    model = pipeline.fit(trainSample)\n",
    "    \n",
    "    # Evaluate on the training and test sets\n",
    "    trainRMSE = rmseEvaluator.evaluate(model.transform(trainSample))\n",
    "    trainR2 = r2Evaluator.evaluate(model.transform(trainSample))\n",
    "    testRMSE = rmseEvaluator.evaluate(model.transform(testData))\n",
    "    testR2 = r2Evaluator.evaluate(model.transform(testData))\n",
    "    resultsDF = resultsDF.append([\n",
    "        {\"Fraction\": (i + 1) / numFolds, \"Metric\": \"RMSE\", \"Train\": trainRMSE, \"Test\": testRMSE},\n",
    "        {\"Fraction\": (i + 1) / numFolds, \"Metric\": \"R2\", \"Train\": trainR2, \"Test\": testR2}\n",
    "    ], ignore_index=True)\n",
    "    \n",
    "    print(f\"Completed iteration #{i + 1} (RMSE train: {trainRMSE}, R2 train: {trainR2}, RMSE test: {testRMSE}, R2 test: {testR2}).\")"
   ]
  },
  {
   "cell_type": "code",
   "execution_count": 8,
   "id": "harmful-intranet",
   "metadata": {},
   "outputs": [
    {
     "data": {
      "image/png": "[encoded data removed]",
      "text/plain": [
       "<Figure size 1080x360 with 2 Axes>"
      ]
     },
     "metadata": {},
     "output_type": "display_data"
    }
   ],
   "source": [
    "fig, ax = plt.subplots(1, 2, figsize=(15, 5))\n",
    "resultsDF[resultsDF[\"Metric\"] == \"RMSE\"].plot(x=\"Fraction\", y=[\"Train\", \"Test\"], ax=ax[0])\n",
    "resultsDF[resultsDF[\"Metric\"] == \"R2\"].plot(x=\"Fraction\", y=[\"Train\", \"Test\"], ax=ax[1])\n",
    "ax[0].set_xticks([(i + 1) / numFolds for i in range(numFolds)])\n",
    "ax[1].set_xticks([(i + 1) / numFolds for i in range(numFolds)])\n",
    "ax[0].set_xlabel(\"Training set fraction\")\n",
    "ax[1].set_xlabel(\"Training set fraction\")\n",
    "ax[0].set_ylabel(\"Root MSE\")\n",
    "ax[1].set_ylabel(\"R2 coefficient\");"
   ]
  }
 ],
 "metadata": {
  "kernelspec": {
   "display_name": "PySpark (Yarn)",
   "language": "python",
   "name": "pyspark_yarn"
  },
  "language_info": {
   "codemirror_mode": {
    "name": "ipython",
    "version": 3
   },
   "file_extension": ".py",
   "mimetype": "text/x-python",
   "name": "python",
   "nbconvert_exporter": "python",
   "pygments_lexer": "ipython3",
   "version": "3.7.9"
  }
 },
 "nbformat": 4,
 "nbformat_minor": 5
}
